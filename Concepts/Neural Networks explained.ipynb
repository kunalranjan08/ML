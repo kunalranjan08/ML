{
 "cells": [
  {
   "cell_type": "markdown",
   "metadata": {},
   "source": [
    "# Neural Network : Laymen Terms\n",
    "\n",
    "Let me try to explain neural network in a very general term\n",
    "\n",
    "Suppose you want to make CAKE for dessert. \n",
    "\n",
    "<img src=\"cakeImages/c0.jpg\" alt=\"Drawing\" style=\"width: 200px; height : 200px;\"/>\n",
    "\n",
    "You had never cooked it before and trying to replicate the above result.\n",
    "\n",
    "###### The main steps in Machine Learning are :\n",
    "* Data gathering\n",
    "* Data preprocessing\n",
    "* Choose Model\n",
    "* Train model\n",
    "* Evaluate\n",
    "\n"
   ]
  },
  {
   "cell_type": "markdown",
   "metadata": {},
   "source": [
    "Now, I will try to explain each of these steps in context of cooking a CAKE.\n",
    "\n",
    "#### Data Gathering\n",
    "\n",
    "There are lots of items present in a super market which depicts the data. \n",
    "\n",
    "<img src=\"cakeImages/c4.jpg\" alt=\"Drawing\" style=\"width: 200px; height : 200px;\"/>\n",
    "\n",
    "#### Data preprocessing\n",
    "\n",
    "Selecting proper ingredients for cooking cake\n",
    "\n",
    "<img src=\"cakeImages/c5.jpg\" alt=\"Drawing\" style=\"width: 200px; height : 200px;\"/>\n",
    "\n",
    "#### Choose model\n",
    "\n",
    "This can be analogous to seek instruction from someone(Mom) or watching recipe tutorials.\n",
    "\n",
    "<img src=\"cakeImages/c10.jpeg\" alt=\"Drawing\" style=\"width: 200px; height : 200px;\"/>\n",
    "\n",
    "#### Train Model\n",
    "\n",
    "You try to bake cake for the first attempt. Mostly will result into disastrous condition.\n",
    "\n",
    "<img src=\"cakeImages/c2.jpg\" alt=\"Drawing\" style=\"width: 200px; height : 200px;\"/>\n",
    "\n",
    "Then you try to rethink that what might have gone wrong and try to to the improve it for the next time (This is called **_\"Back Propagation\"_ **)\n",
    "\n",
    "You try for the next attempt, you improve a little but you find some other mistake\n",
    "\n",
    "<img src=\"cakeImages/c7.jpeg\" alt=\"Drawing\" style=\"width: 200px; height : 200px;\"/>\n",
    "\n",
    "You repeat for various attempts and try to improve on each attempt (Each attempt are known as **_epoch_** and improving means **minimizing the loss.**)\n",
    "\n",
    "<img src=\"cakeImages/c8.jpeg\" alt=\"Drawing\" style=\"width: 200px; height : 200px;\"/>\n",
    "<img src=\"cakeImages/c9.jpeg\" alt=\"Drawing\" style=\"width: 200px; height : 200px;\"/>\n",
    "\n",
    "\n",
    "#### Evaluate\n",
    "\n",
    "Suppose now you are provided with some different ingredients where some of the ingredients are missing such as cream for decorating. You should still be able to cook with the available ingredients and match the standards of the previous result achieved. \n",
    "\n",
    "<img src=\"cakeImages/c1.jpeg\" alt=\"Drawing\" style=\"width: 200px; height : 200px;\"/>\n",
    "\n",
    "When new data samples are provided, the model should achieve almost similar target to evaluate that model has learned something.\n"
   ]
  }
 ],
 "metadata": {
  "kernelspec": {
   "display_name": "Python 3",
   "language": "python",
   "name": "python3"
  },
  "language_info": {
   "codemirror_mode": {
    "name": "ipython",
    "version": 3
   },
   "file_extension": ".py",
   "mimetype": "text/x-python",
   "name": "python",
   "nbconvert_exporter": "python",
   "pygments_lexer": "ipython3",
   "version": "3.6.5"
  }
 },
 "nbformat": 4,
 "nbformat_minor": 2
}
