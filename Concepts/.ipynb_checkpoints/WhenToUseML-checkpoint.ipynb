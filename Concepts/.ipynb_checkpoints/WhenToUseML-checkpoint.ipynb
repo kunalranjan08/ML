{
 "cells": [
  {
   "cell_type": "markdown",
   "metadata": {},
   "source": [
    "# When to use Machine Learning to our problem?\n",
    "\n",
    "* Lot of people are using Machine Learning to their problem without knowing its importance and when to apply to their problem \n",
    "\n",
    "**It is important to remember that ML is not a solution for every type of problem.** There are certain cases where robust solutions can be developed without using ML techniques. \n",
    "\n",
    "##### Use machine learning for the following situations:\n",
    "\n",
    "* You cannot code the rules\n",
    "* You cannot scale\n"
   ]
  },
  { 
   "cell_type": "markdown",
   "metadata": {},
   "source": [
    "## Let me illustrate you with a simple example.\n",
    "\n",
    " **PROBLEM STATEMENT :** Suppose you need to kill a **mosquito** and a **dinosaur**\n",
    "\n",
    "<img src=\"images/1.jpeg\" alt=\"Drawing\" style=\"width: 200px; height : 100px;\"/>\n",
    "<img src=\"images/2.jpeg\" alt=\"Drawing\" style=\"width: 200px; height : 200px;\"/>\n",
    "\n"
   ]
  },
  {
   "cell_type": "markdown",
   "metadata": {},
   "source": [
    "There are variety of options available to choose from such as:\n",
    "<img src=\"images/3.jpg\" alt=\"Drawing\" style=\"width: 200px; height : 200px;\"/>\n",
    "<img src=\"images/4.jpg\" alt=\"Drawing\" style=\"width: 200px; height : 200px;\"/>\n",
    "<img src=\"images/5.jpg\" alt=\"Drawing\" style=\"width: 200px; height : 200px;\"/>\n",
    "\n",
    "<img src=\"images/7.jpeg\" alt=\"Drawing\" style=\"width: 200px; height : 200px;\"/>\n",
    "<img src=\"images/9.jpeg\" alt=\"Drawing\" style=\"width: 200px; height : 200px;\"/>\n",
    "\n",
    "\n",
    "### The above options could be compared with the variety of ML algorithms that are present. \n",
    "\n",
    "\n"
   ]
  },
  {
   "cell_type": "markdown",
   "metadata": {},
   "source": [
    "Some of the fruitful options for our problem is to use\n",
    "* for ** _mosquito_ **\n",
    "<img src=\"images/3.jpg\" alt=\"Drawing\" style=\"width: 200px; height : 200px;\"/>\n",
    "<img src=\"images/4.jpg\" alt=\"Drawing\" style=\"width: 200px; height : 200px;\"/>\n",
    "<img src=\"images/5.jpg\" alt=\"Drawing\" style=\"width: 200px; height : 200px;\"/>\n",
    "\n",
    "\n",
    "* And for ** _dinosaur_ **\n",
    "<img src=\"images/7.jpeg\" alt=\"Drawing\" style=\"width: 200px; height : 200px;\"/>\n",
    "<img src=\"images/9.jpeg\" alt=\"Drawing\" style=\"width: 200px; height : 200px;\"/>\n",
    "\n",
    "### In a similar scenario, Data Scientist or Machine Learning expert analyses the data and apply different algorithms based on the requirements.\n"
   ]
  },
  {
   "cell_type": "markdown",
   "metadata": {},
   "source": [
    "###### Let us see what would happens if we choose the below options for our problem\n",
    "\n",
    "![title](images/6.jpg)\n",
    "\n",
    "It does not make any sense to use a gun to kill a mosquito.\n",
    "\n",
    " ## IMPORTANT:  You don’t need to apply ML techniques if you can determine a target value by using **simple rules, computations, or predetermined steps ** that can be programmed without needing any data-driven learning.\n",
    "\n"
   ]
  },
  {
   "cell_type": "markdown",
   "metadata": {},
   "source": [
    "* Also, we cannot use tools for killing dinasour that kills mosquito\n",
    "\n",
    "    **Applying simple models for a complex problem won't solve our problem nor will help the machines to learn.** "
   ]
  }
 ],
 "metadata": {
  "kernelspec": {
   "display_name": "Python 3",
   "language": "python",
   "name": "python3"
  },
  "language_info": {
   "codemirror_mode": {
    "name": "ipython",
    "version": 3
   },
   "file_extension": ".py",
   "mimetype": "text/x-python",
   "name": "python",
   "nbconvert_exporter": "python",
   "pygments_lexer": "ipython3",
   "version": "3.6.5"
  }
 },
 "nbformat": 4,
 "nbformat_minor": 2
}
