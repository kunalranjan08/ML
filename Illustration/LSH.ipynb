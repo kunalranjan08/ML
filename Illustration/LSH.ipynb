{
 "cells": [
  {
   "cell_type": "code",
   "execution_count": null,
   "metadata": {},
   "outputs": [],
   "source": [
    "pip install LocalitySensitiveHashing"
   ]
  },
  {
   "cell_type": "code",
   "execution_count": null,
   "metadata": {},
   "outputs": [],
   "source": [
    "pip install BitVector"
   ]
  },
  {
   "cell_type": "code",
   "execution_count": null,
   "metadata": {},
   "outputs": [],
   "source": [
    "from LocalitySensitiveHashing import *\n",
    "datafile = \"data_for_lsh.csv\"\n",
    "lsh = LocalitySensitiveHashing(\n",
    "                   datafile = datafile,\n",
    "                   dim = 10,\n",
    "                   r = 50,\n",
    "                   b = 100,\n",
    "                   expected_num_of_clusters = 10,\n",
    "          )\n",
    "lsh.get_data_from_csv()\n",
    "lsh.initialize_hash_store()\n",
    "lsh.hash_all_data()\n",
    "similarity_groups = lsh.lsh_basic_for_neighborhood_clusters()\n",
    "coalesced_similarity_groups = lsh.merge_similarity_groups_with_coalescence( similarity_groups )\n",
    "merged_similarity_groups = lsh.merge_similarity_groups_with_l2norm_sample_based( coalesced_similarity_groups )\n",
    "lsh.write_clusters_to_file( merged_similarity_groups, \"clusters.txt\" )"
   ]
  },
  {
   "cell_type": "code",
   "execution_count": null,
   "metadata": {},
   "outputs": [],
   "source": []
  },
  {
   "cell_type": "code",
   "execution_count": null,
   "metadata": {},
   "outputs": [],
   "source": []
  },
  {
   "cell_type": "code",
   "execution_count": null,
   "metadata": {},
   "outputs": [],
   "source": []
  }
 ],
 "metadata": {
  "kernelspec": {
   "display_name": "Python 3",
   "language": "python",
   "name": "python3"
  },
  "language_info": {
   "codemirror_mode": {
    "name": "ipython",
    "version": 3
   },
   "file_extension": ".py",
   "mimetype": "text/x-python",
   "name": "python",
   "nbconvert_exporter": "python",
   "pygments_lexer": "ipython3",
   "version": "3.6.5"
  }
 },
 "nbformat": 4,
 "nbformat_minor": 2
}
