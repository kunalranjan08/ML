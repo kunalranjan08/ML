{
 "cells": [
  {
   "cell_type": "code",
   "execution_count": null,
   "metadata": {},
   "outputs": [],
   "source": [
    "import pandas as pd \n",
    "import numpy as np\n",
    "import matplotlib.pyplot as plt\n",
    "from numbers import Number\n",
    "\n",
    "data = pd.read_excel('Clustering.xls')\n",
    "s1=data['Comments']\n",
    "\n",
    "\n",
    "df1 = s1.where((pd.notnull(s1)), 'Blanks')\n",
    "\n",
    "\n",
    "\n",
    "\n",
    "from sklearn.feature_extraction.text import CountVectorizer \n",
    "vectorizer = CountVectorizer(stop_words= 'english',min_df= 5)\n",
    "s = vectorizer.fit_transform(df1)\n",
    "s.shape\n",
    "\n",
    "############################# KMeans #################################################\n",
    "\n",
    "from sklearn.cluster import KMeans\n",
    "wcss=[]\n",
    "for i in range(1,15):\n",
    "    print(i)\n",
    "    kmeans= KMeans(n_clusters = i, init = 'k-means++', max_iter = 300, n_init = 10, random_state= 0)\n",
    "    kmeans.fit(s)\n",
    "    wcss.append(kmeans.inertia_)\n",
    "plt.plot(range(1,15),wcss)\n",
    "plt.show()\n",
    "\n",
    "\n",
    "kmeans = KMeans(n_clusters=60, init = 'k-means++', max_iter = 300, n_init = 10, random_state= 0)\n",
    "y_kmeans = kmeans.fit_predict(s)\n",
    "    \n",
    "    \n",
    "    "
   ]
  },
  {
   "cell_type": "code",
   "execution_count": null,
   "metadata": {},
   "outputs": [],
   "source": [
    "import sys\n",
    "sys.setrecursionlimit(100)\n",
    "import scipy.cluster.hierarchy as sch\n",
    "\n",
    "\n",
    "dendogram = sch.dendrogram(sch.linkage(s.todense(), method= 'ward'))\n",
    "\n",
    "plt.show()"
   ]
  }
 ],
 "metadata": {
  "kernelspec": {
   "display_name": "Python 3",
   "language": "python",
   "name": "python3"
  },
  "language_info": {
   "codemirror_mode": {
    "name": "ipython",
    "version": 3
   },
   "file_extension": ".py",
   "mimetype": "text/x-python",
   "name": "python",
   "nbconvert_exporter": "python",
   "pygments_lexer": "ipython3",
   "version": "3.6.5"
  }
 },
 "nbformat": 4,
 "nbformat_minor": 2
}
